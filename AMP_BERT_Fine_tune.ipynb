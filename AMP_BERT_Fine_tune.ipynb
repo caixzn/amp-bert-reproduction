{
  "nbformat": 4,
  "nbformat_minor": 0,
  "metadata": {
    "colab": {
      "provenance": []
    },
    "kernelspec": {
      "name": "python3",
      "display_name": "Python 3"
    },
    "language_info": {
      "name": "python"
    },
    "accelerator": "GPU"
  },
  "cells": [
    {
      "cell_type": "code",
      "execution_count": 1,
      "metadata": {
        "id": "cYhGE2zhpcgo",
        "colab": {
          "base_uri": "https://localhost:8080/"
        },
        "outputId": "a81d1930-5ec9-4a69-8398-0352ba666702"
      },
      "outputs": [
        {
          "output_type": "stream",
          "name": "stdout",
          "text": [
            "Requirement already satisfied: transformers in /usr/local/lib/python3.10/dist-packages (4.31.0)\n",
            "Requirement already satisfied: filelock in /usr/local/lib/python3.10/dist-packages (from transformers) (3.12.2)\n",
            "Requirement already satisfied: huggingface-hub<1.0,>=0.14.1 in /usr/local/lib/python3.10/dist-packages (from transformers) (0.16.4)\n",
            "Requirement already satisfied: numpy>=1.17 in /usr/local/lib/python3.10/dist-packages (from transformers) (1.22.4)\n",
            "Requirement already satisfied: packaging>=20.0 in /usr/local/lib/python3.10/dist-packages (from transformers) (23.1)\n",
            "Requirement already satisfied: pyyaml>=5.1 in /usr/local/lib/python3.10/dist-packages (from transformers) (6.0.1)\n",
            "Requirement already satisfied: regex!=2019.12.17 in /usr/local/lib/python3.10/dist-packages (from transformers) (2022.10.31)\n",
            "Requirement already satisfied: requests in /usr/local/lib/python3.10/dist-packages (from transformers) (2.27.1)\n",
            "Requirement already satisfied: tokenizers!=0.11.3,<0.14,>=0.11.1 in /usr/local/lib/python3.10/dist-packages (from transformers) (0.13.3)\n",
            "Requirement already satisfied: safetensors>=0.3.1 in /usr/local/lib/python3.10/dist-packages (from transformers) (0.3.1)\n",
            "Requirement already satisfied: tqdm>=4.27 in /usr/local/lib/python3.10/dist-packages (from transformers) (4.65.0)\n",
            "Requirement already satisfied: fsspec in /usr/local/lib/python3.10/dist-packages (from huggingface-hub<1.0,>=0.14.1->transformers) (2023.6.0)\n",
            "Requirement already satisfied: typing-extensions>=3.7.4.3 in /usr/local/lib/python3.10/dist-packages (from huggingface-hub<1.0,>=0.14.1->transformers) (4.7.1)\n",
            "Requirement already satisfied: urllib3<1.27,>=1.21.1 in /usr/local/lib/python3.10/dist-packages (from requests->transformers) (1.26.16)\n",
            "Requirement already satisfied: certifi>=2017.4.17 in /usr/local/lib/python3.10/dist-packages (from requests->transformers) (2023.7.22)\n",
            "Requirement already satisfied: charset-normalizer~=2.0.0 in /usr/local/lib/python3.10/dist-packages (from requests->transformers) (2.0.12)\n",
            "Requirement already satisfied: idna<4,>=2.5 in /usr/local/lib/python3.10/dist-packages (from requests->transformers) (3.4)\n",
            "Requirement already satisfied: transformers[torch] in /usr/local/lib/python3.10/dist-packages (4.31.0)\n",
            "Requirement already satisfied: filelock in /usr/local/lib/python3.10/dist-packages (from transformers[torch]) (3.12.2)\n",
            "Requirement already satisfied: huggingface-hub<1.0,>=0.14.1 in /usr/local/lib/python3.10/dist-packages (from transformers[torch]) (0.16.4)\n",
            "Requirement already satisfied: numpy>=1.17 in /usr/local/lib/python3.10/dist-packages (from transformers[torch]) (1.22.4)\n",
            "Requirement already satisfied: packaging>=20.0 in /usr/local/lib/python3.10/dist-packages (from transformers[torch]) (23.1)\n",
            "Requirement already satisfied: pyyaml>=5.1 in /usr/local/lib/python3.10/dist-packages (from transformers[torch]) (6.0.1)\n",
            "Requirement already satisfied: regex!=2019.12.17 in /usr/local/lib/python3.10/dist-packages (from transformers[torch]) (2022.10.31)\n",
            "Requirement already satisfied: requests in /usr/local/lib/python3.10/dist-packages (from transformers[torch]) (2.27.1)\n",
            "Requirement already satisfied: tokenizers!=0.11.3,<0.14,>=0.11.1 in /usr/local/lib/python3.10/dist-packages (from transformers[torch]) (0.13.3)\n",
            "Requirement already satisfied: safetensors>=0.3.1 in /usr/local/lib/python3.10/dist-packages (from transformers[torch]) (0.3.1)\n",
            "Requirement already satisfied: tqdm>=4.27 in /usr/local/lib/python3.10/dist-packages (from transformers[torch]) (4.65.0)\n",
            "Requirement already satisfied: torch!=1.12.0,>=1.9 in /usr/local/lib/python3.10/dist-packages (from transformers[torch]) (2.0.1+cu118)\n",
            "Requirement already satisfied: accelerate>=0.20.3 in /usr/local/lib/python3.10/dist-packages (from transformers[torch]) (0.21.0)\n",
            "Requirement already satisfied: psutil in /usr/local/lib/python3.10/dist-packages (from accelerate>=0.20.3->transformers[torch]) (5.9.5)\n",
            "Requirement already satisfied: fsspec in /usr/local/lib/python3.10/dist-packages (from huggingface-hub<1.0,>=0.14.1->transformers[torch]) (2023.6.0)\n",
            "Requirement already satisfied: typing-extensions>=3.7.4.3 in /usr/local/lib/python3.10/dist-packages (from huggingface-hub<1.0,>=0.14.1->transformers[torch]) (4.7.1)\n",
            "Requirement already satisfied: sympy in /usr/local/lib/python3.10/dist-packages (from torch!=1.12.0,>=1.9->transformers[torch]) (1.11.1)\n",
            "Requirement already satisfied: networkx in /usr/local/lib/python3.10/dist-packages (from torch!=1.12.0,>=1.9->transformers[torch]) (3.1)\n",
            "Requirement already satisfied: jinja2 in /usr/local/lib/python3.10/dist-packages (from torch!=1.12.0,>=1.9->transformers[torch]) (3.1.2)\n",
            "Requirement already satisfied: triton==2.0.0 in /usr/local/lib/python3.10/dist-packages (from torch!=1.12.0,>=1.9->transformers[torch]) (2.0.0)\n",
            "Requirement already satisfied: cmake in /usr/local/lib/python3.10/dist-packages (from triton==2.0.0->torch!=1.12.0,>=1.9->transformers[torch]) (3.25.2)\n",
            "Requirement already satisfied: lit in /usr/local/lib/python3.10/dist-packages (from triton==2.0.0->torch!=1.12.0,>=1.9->transformers[torch]) (16.0.6)\n",
            "Requirement already satisfied: urllib3<1.27,>=1.21.1 in /usr/local/lib/python3.10/dist-packages (from requests->transformers[torch]) (1.26.16)\n",
            "Requirement already satisfied: certifi>=2017.4.17 in /usr/local/lib/python3.10/dist-packages (from requests->transformers[torch]) (2023.7.22)\n",
            "Requirement already satisfied: charset-normalizer~=2.0.0 in /usr/local/lib/python3.10/dist-packages (from requests->transformers[torch]) (2.0.12)\n",
            "Requirement already satisfied: idna<4,>=2.5 in /usr/local/lib/python3.10/dist-packages (from requests->transformers[torch]) (3.4)\n",
            "Requirement already satisfied: MarkupSafe>=2.0 in /usr/local/lib/python3.10/dist-packages (from jinja2->torch!=1.12.0,>=1.9->transformers[torch]) (2.1.3)\n",
            "Requirement already satisfied: mpmath>=0.19 in /usr/local/lib/python3.10/dist-packages (from sympy->torch!=1.12.0,>=1.9->transformers[torch]) (1.3.0)\n",
            "Requirement already satisfied: accelerate in /usr/local/lib/python3.10/dist-packages (0.21.0)\n",
            "Requirement already satisfied: numpy>=1.17 in /usr/local/lib/python3.10/dist-packages (from accelerate) (1.22.4)\n",
            "Requirement already satisfied: packaging>=20.0 in /usr/local/lib/python3.10/dist-packages (from accelerate) (23.1)\n",
            "Requirement already satisfied: psutil in /usr/local/lib/python3.10/dist-packages (from accelerate) (5.9.5)\n",
            "Requirement already satisfied: pyyaml in /usr/local/lib/python3.10/dist-packages (from accelerate) (6.0.1)\n",
            "Requirement already satisfied: torch>=1.10.0 in /usr/local/lib/python3.10/dist-packages (from accelerate) (2.0.1+cu118)\n",
            "Requirement already satisfied: filelock in /usr/local/lib/python3.10/dist-packages (from torch>=1.10.0->accelerate) (3.12.2)\n",
            "Requirement already satisfied: typing-extensions in /usr/local/lib/python3.10/dist-packages (from torch>=1.10.0->accelerate) (4.7.1)\n",
            "Requirement already satisfied: sympy in /usr/local/lib/python3.10/dist-packages (from torch>=1.10.0->accelerate) (1.11.1)\n",
            "Requirement already satisfied: networkx in /usr/local/lib/python3.10/dist-packages (from torch>=1.10.0->accelerate) (3.1)\n",
            "Requirement already satisfied: jinja2 in /usr/local/lib/python3.10/dist-packages (from torch>=1.10.0->accelerate) (3.1.2)\n",
            "Requirement already satisfied: triton==2.0.0 in /usr/local/lib/python3.10/dist-packages (from torch>=1.10.0->accelerate) (2.0.0)\n",
            "Requirement already satisfied: cmake in /usr/local/lib/python3.10/dist-packages (from triton==2.0.0->torch>=1.10.0->accelerate) (3.25.2)\n",
            "Requirement already satisfied: lit in /usr/local/lib/python3.10/dist-packages (from triton==2.0.0->torch>=1.10.0->accelerate) (16.0.6)\n",
            "Requirement already satisfied: MarkupSafe>=2.0 in /usr/local/lib/python3.10/dist-packages (from jinja2->torch>=1.10.0->accelerate) (2.1.3)\n",
            "Requirement already satisfied: mpmath>=0.19 in /usr/local/lib/python3.10/dist-packages (from sympy->torch>=1.10.0->accelerate) (1.3.0)\n"
          ]
        }
      ],
      "source": [
        "!pip install transformers\n",
        "!pip install transformers[torch]\n",
        "!pip install accelerate --upgrade"
      ]
    },
    {
      "cell_type": "code",
      "source": [
        "import os\n",
        "import pandas as pd\n",
        "import numpy as np\n",
        "import torch\n",
        "import re\n",
        "\n",
        "from sklearn.metrics import accuracy_score, precision_recall_fscore_support\n",
        "from torch.utils.data import Dataset, DataLoader\n",
        "\n",
        "torch.cuda.is_available()\n",
        "device = torch.device(\"cuda\" if torch.cuda.is_available() else \"cpu\")\n",
        "print(device)\n",
        "\n",
        "from transformers import Trainer, TrainingArguments, AdamW, BertTokenizer, BertForMaskedLM, AutoTokenizer, AutoModelForMaskedLM"
      ],
      "metadata": {
        "id": "c8wIZMbgrdGa",
        "colab": {
          "base_uri": "https://localhost:8080/"
        },
        "outputId": "b6d6d575-bad6-46e4-ecaf-9e1484c52aa4"
      },
      "execution_count": 1,
      "outputs": [
        {
          "output_type": "stream",
          "name": "stdout",
          "text": [
            "cuda\n"
          ]
        }
      ]
    },
    {
      "cell_type": "code",
      "source": [
        "class amp_data():\n",
        "    def __init__(self, df, tokenizer_name='Rostlab/prot_bert_bfd', max_len=200):\n",
        "        # Initialize the tokenizer and maximum sequence length\n",
        "        self.tokenizer = AutoTokenizer.from_pretrained(tokenizer_name, do_lower_case=False)\n",
        "        self.max_len = max_len\n",
        "        # Extract the sequences from the dataframe\n",
        "        self.seqs = list(df['aa_seq'])\n",
        "\n",
        "    def __len__(self):\n",
        "        # Return the number of sequences in the dataset\n",
        "        return len(self.seqs)\n",
        "\n",
        "    def __getitem__(self, idx):\n",
        "        # Get the sequence at the given index\n",
        "        seq = \" \".join(\"\".join(self.seqs[idx].split()))\n",
        "        # Tokenize the sequence and pad/truncate it to the maximum length\n",
        "        seq_ids = self.tokenizer(seq, truncation=True, padding='max_length', max_length=self.max_len, return_tensors='pt')\n",
        "\n",
        "        # Extract the input_ids and attention_mask from the tokenized sequence\n",
        "        input_ids = seq_ids.input_ids[0]\n",
        "        attention_mask = seq_ids.attention_mask[0]\n",
        "        # Create a copy of the input_ids to use as labels for masked language modeling\n",
        "        masked_lm_labels = input_ids.clone()\n",
        "\n",
        "        # Create a random mask with the same shape as the input_ids\n",
        "        probability_mask = torch.rand(input_ids.shape)\n",
        "        # Select 15% of the tokens at random\n",
        "        mask_indices = (probability_mask < 0.15) & attention_mask.bool()\n",
        "        # Set the labels for all unmasked tokens to -100 so that they are ignored during training\n",
        "        masked_lm_labels[~mask_indices] = -100\n",
        "        # Find the indices of the masked tokens\n",
        "        masked_indices = torch.nonzero(mask_indices, as_tuple=False)\n",
        "        # Create a random mask for the masked tokens\n",
        "        probability_mask[mask_indices] = torch.rand(sum(mask_indices))\n",
        "        # Replace the masked tokens with either the [MASK] token, a random token from the vocabulary, or leave them unchanged with probabilities 0.8, 0.1, and 0.1 respectively\n",
        "        input_ids[mask_indices] = torch.where(probability_mask[mask_indices] < 0.8, self.tokenizer.mask_token_id, torch.where(probability_mask[mask_indices] < 0.9, torch.randint(len(self.tokenizer), (sum(mask_indices),)), input_ids[mask_indices]))\n",
        "\n",
        "        # Return a dictionary containing the input_ids, attention_mask, and labels for this sequence\n",
        "        sample = {\n",
        "            'input_ids': input_ids,\n",
        "            'attention_mask': attention_mask,\n",
        "            'labels': masked_lm_labels,\n",
        "        }\n",
        "\n",
        "        return sample"
      ],
      "metadata": {
        "id": "lb579FMwrdKU"
      },
      "execution_count": 2,
      "outputs": []
    },
    {
      "cell_type": "code",
      "source": [
        "# read in the train dataset\n",
        "# create an amp_data class of the dataset\n",
        "\n",
        "data_url = 'https://raw.githubusercontent.com/GIST-CSBL/AMP-BERT/main/all_veltri.csv'\n",
        "df = pd.read_csv(data_url, index_col = 0)\n",
        "df = df[df[\"AMP\"] == True]\n",
        "df = df.sample(frac=1, random_state = 0)\n",
        "print(df.head(7))\n",
        "\n",
        "train_dataset = amp_data(df)"
      ],
      "metadata": {
        "colab": {
          "base_uri": "https://localhost:8080/"
        },
        "id": "BBymtbXgrdOc",
        "outputId": "15dd0a9f-fafc-497e-e293-27cd0cbd2d49"
      },
      "execution_count": 3,
      "outputs": [
        {
          "output_type": "stream",
          "name": "stdout",
          "text": [
            "                                                    aa_seq  aa_len   AMP\n",
            "AP01472                                      QLYENKPRRPYIL      13  True\n",
            "AP00605                                     ILPILSLIGGLLGK      14  True\n",
            "AP01892                           IPWKLPATFRPVERPFSKPFCRKD      24  True\n",
            "AP02733  LFGSVKAWFKGAKKGFQDYRYQKDMAKMNKRYGPNWQQRGGQEPPA...      55  True\n",
            "AP00045           QGVRSYLSCWGNRGICLLNRCPGRMRQIGTCLAPRVKCCR      40  True\n",
            "AP00108                                      FLPFLATLLSKVL      13  True\n",
            "AP01206                               CTFTLPGGGGVCTLTSECIC      20  True\n"
          ]
        }
      ]
    },
    {
      "cell_type": "code",
      "source": [
        "# Replace the model and tokenizer with the BERT model and tokenizer for MLM\n",
        "\n",
        "def model_init():\n",
        "    return BertForMaskedLM.from_pretrained('Rostlab/prot_bert_bfd')\n",
        "\n",
        "tokenizer = BertTokenizer.from_pretrained('Rostlab/prot_bert_bfd')\n"
      ],
      "metadata": {
        "id": "j-pQako9rdTQ"
      },
      "execution_count": 4,
      "outputs": []
    },
    {
      "cell_type": "code",
      "source": [
        "# Modify the TrainingArguments for MLM\n",
        "training_args = TrainingArguments(\n",
        "    output_dir='./results',\n",
        "    num_train_epochs=7,\n",
        "    learning_rate=5e-5,\n",
        "    per_device_train_batch_size=1,\n",
        "    warmup_steps=0,\n",
        "    weight_decay=0.1,\n",
        "    logging_dir='./logs',\n",
        "    logging_steps=10,\n",
        "    do_train=True,\n",
        "    do_eval=True,\n",
        "    evaluation_strategy=\"no\",\n",
        "    save_strategy='no',\n",
        "    gradient_accumulation_steps=64,\n",
        "    fp16=True,\n",
        "    fp16_opt_level=\"O2\",\n",
        "    run_name=\"BERT-MLM\",\n",
        "    seed=0,\n",
        "    load_best_model_at_end=True,\n",
        ")\n",
        "\n",
        "# Use Trainer with model for masked language modeling\n",
        "from transformers import DataCollatorForLanguageModeling\n",
        "\n",
        "trainer = Trainer(\n",
        "    model_init=model_init,\n",
        "    args=training_args,\n",
        "    data_collator=DataCollatorForLanguageModeling(tokenizer),\n",
        "    train_dataset=train_dataset,\n",
        ")\n",
        "\n",
        "trainer.train()"
      ],
      "metadata": {
        "id": "hk0ETN8brdVR",
        "colab": {
          "base_uri": "https://localhost:8080/",
          "height": 648
        },
        "outputId": "ac6c5646-2c20-49ac-85eb-bea73516cfda"
      },
      "execution_count": null,
      "outputs": [
        {
          "output_type": "stream",
          "name": "stderr",
          "text": [
            "Some weights of the model checkpoint at Rostlab/prot_bert_bfd were not used when initializing BertForMaskedLM: ['bert.pooler.dense.bias', 'bert.pooler.dense.weight', 'cls.seq_relationship.weight', 'cls.seq_relationship.bias']\n",
            "- This IS expected if you are initializing BertForMaskedLM from the checkpoint of a model trained on another task or with another architecture (e.g. initializing a BertForSequenceClassification model from a BertForPreTraining model).\n",
            "- This IS NOT expected if you are initializing BertForMaskedLM from the checkpoint of a model that you expect to be exactly identical (initializing a BertForSequenceClassification model from a BertForSequenceClassification model).\n",
            "Some weights of the model checkpoint at Rostlab/prot_bert_bfd were not used when initializing BertForMaskedLM: ['bert.pooler.dense.bias', 'bert.pooler.dense.weight', 'cls.seq_relationship.weight', 'cls.seq_relationship.bias']\n",
            "- This IS expected if you are initializing BertForMaskedLM from the checkpoint of a model trained on another task or with another architecture (e.g. initializing a BertForSequenceClassification model from a BertForPreTraining model).\n",
            "- This IS NOT expected if you are initializing BertForMaskedLM from the checkpoint of a model that you expect to be exactly identical (initializing a BertForSequenceClassification model from a BertForSequenceClassification model).\n",
            "/usr/local/lib/python3.10/dist-packages/transformers/optimization.py:411: FutureWarning: This implementation of AdamW is deprecated and will be removed in a future version. Use the PyTorch implementation torch.optim.AdamW instead, or set `no_deprecation_warning=True` to disable this warning\n",
            "  warnings.warn(\n"
          ]
        },
        {
          "output_type": "display_data",
          "data": {
            "text/plain": [
              "<IPython.core.display.HTML object>"
            ],
            "text/html": [
              "\n",
              "    <div>\n",
              "      \n",
              "      <progress value='134' max='189' style='width:300px; height:20px; vertical-align: middle;'></progress>\n",
              "      [134/189 16:47 < 06:59, 0.13 it/s, Epoch 4.79/7]\n",
              "    </div>\n",
              "    <table border=\"1\" class=\"dataframe\">\n",
              "  <thead>\n",
              " <tr style=\"text-align: left;\">\n",
              "      <th>Step</th>\n",
              "      <th>Training Loss</th>\n",
              "    </tr>\n",
              "  </thead>\n",
              "  <tbody>\n",
              "    <tr>\n",
              "      <td>10</td>\n",
              "      <td>1653.863900</td>\n",
              "    </tr>\n",
              "    <tr>\n",
              "      <td>20</td>\n",
              "      <td>116.526400</td>\n",
              "    </tr>\n",
              "    <tr>\n",
              "      <td>30</td>\n",
              "      <td>149.540000</td>\n",
              "    </tr>\n",
              "    <tr>\n",
              "      <td>40</td>\n",
              "      <td>115.987500</td>\n",
              "    </tr>\n",
              "    <tr>\n",
              "      <td>50</td>\n",
              "      <td>75.925400</td>\n",
              "    </tr>\n",
              "    <tr>\n",
              "      <td>60</td>\n",
              "      <td>62.366900</td>\n",
              "    </tr>\n",
              "    <tr>\n",
              "      <td>70</td>\n",
              "      <td>85.515700</td>\n",
              "    </tr>\n",
              "    <tr>\n",
              "      <td>80</td>\n",
              "      <td>66.407000</td>\n",
              "    </tr>\n",
              "    <tr>\n",
              "      <td>90</td>\n",
              "      <td>150.639900</td>\n",
              "    </tr>\n",
              "    <tr>\n",
              "      <td>100</td>\n",
              "      <td>18.374100</td>\n",
              "    </tr>\n",
              "    <tr>\n",
              "      <td>110</td>\n",
              "      <td>436.141300</td>\n",
              "    </tr>\n",
              "    <tr>\n",
              "      <td>120</td>\n",
              "      <td>102.587900</td>\n",
              "    </tr>\n",
              "    <tr>\n",
              "      <td>130</td>\n",
              "      <td>53.253800</td>\n",
              "    </tr>\n",
              "  </tbody>\n",
              "</table><p>"
            ]
          },
          "metadata": {}
        }
      ]
    },
    {
      "cell_type": "code",
      "source": [
        "# save the model, if desired\n",
        "\n",
        "#from google.colab import drive\n",
        "#drive.mount('/content/drive')\n",
        "\n",
        "trainer.save_model('/content/results/Colab Notebooks/AMP-BERT/Fine-tuned_model/')"
      ],
      "metadata": {
        "id": "f6JgOpbw9q4Y"
      },
      "execution_count": null,
      "outputs": []
    },
    {
      "cell_type": "code",
      "source": [
        "# predict AMP/non-AMP for a single example\n",
        "\n",
        "# IMPORTANT:\n",
        "# one must mount their Google Drive and load their own fine-tuned model before running the below cell for individual predictions\n",
        "#from google.colab import drive\n",
        "#drive.mount('/content/drive')\n",
        "\n",
        "from transformers import pipeline\n",
        "\n",
        "# load appropriate tokenizer and fine-tuned model\n",
        "tokenizer = BertTokenizer.from_pretrained('Rostlab/prot_bert_bfd', do_lower_case=False)\n",
        "model = BertForMaskedLM.from_pretrained(\"/content/results/Colab Notebooks/AMP-BERT/Fine-tuned_model/\")\n",
        "unmasker = pipeline('fill-mask', model=model, tokenizer=tokenizer)"
      ],
      "metadata": {
        "id": "xqdIvYee4i_v"
      },
      "execution_count": null,
      "outputs": []
    },
    {
      "cell_type": "code",
      "source": [
        "from random import randint\n",
        "import json\n",
        "\n",
        "#@markdown **Input peptide sequence (upper case only)**\n",
        "input_seq = 'SLGPAIKATRQVCPKATRFVTVSCKKSDCQ' #@param {type:\"string\"}\n",
        "\n",
        "input_seq_spaced = ' '.join([ input_seq[i:i+1] for i in range(0, len(input_seq), 1) ])\n",
        "\n",
        "tokens = input_seq_spaced.split()\n",
        "random_index = randint(0, len(tokens) - 1)\n",
        "tokens[random_index] = '[MASK]'\n",
        "\n",
        "# Join the words back into a string with spaces\n",
        "masked_seq_spaced = \" \".join(tokens)\n",
        "print('Original input: ' + input_seq_spaced)\n",
        "print('Masked input:   ' + masked_seq_spaced)\n",
        "print(json.dumps(unmasker(masked_seq_spaced), indent=2))"
      ],
      "metadata": {
        "colab": {
          "base_uri": "https://localhost:8080/"
        },
        "id": "3q3GujE3_csL",
        "outputId": "67d26723-c11b-4ae0-a54c-3d6ecf5d2061"
      },
      "execution_count": 8,
      "outputs": [
        {
          "output_type": "stream",
          "name": "stdout",
          "text": [
            "Original input: S L G P A I K A T R Q V C P K A T R F V T V S C K K S D C Q\n",
            "Masked input:   S L G P A I K A T R Q V C P K A T R F V T V S C K K S [MASK] C Q\n",
            "[\n",
            "  {\n",
            "    \"score\": 0.14264661073684692,\n",
            "    \"token\": 12,\n",
            "    \"token_str\": \"K\",\n",
            "    \"sequence\": \"S L G P A I K A T R Q V C P K A T R F V T V S C K K S K C Q\"\n",
            "  },\n",
            "  {\n",
            "    \"score\": 0.0845257043838501,\n",
            "    \"token\": 13,\n",
            "    \"token_str\": \"R\",\n",
            "    \"sequence\": \"S L G P A I K A T R Q V C P K A T R F V T V S C K K S R C Q\"\n",
            "  },\n",
            "  {\n",
            "    \"score\": 0.08332563936710358,\n",
            "    \"token\": 10,\n",
            "    \"token_str\": \"S\",\n",
            "    \"sequence\": \"S L G P A I K A T R Q V C P K A T R F V T V S C K K S S C Q\"\n",
            "  },\n",
            "  {\n",
            "    \"score\": 0.08325883746147156,\n",
            "    \"token\": 7,\n",
            "    \"token_str\": \"G\",\n",
            "    \"sequence\": \"S L G P A I K A T R Q V C P K A T R F V T V S C K K S G C Q\"\n",
            "  },\n",
            "  {\n",
            "    \"score\": 0.06272854655981064,\n",
            "    \"token\": 8,\n",
            "    \"token_str\": \"V\",\n",
            "    \"sequence\": \"S L G P A I K A T R Q V C P K A T R F V T V S C K K S V C Q\"\n",
            "  }\n",
            "]\n"
          ]
        }
      ]
    }
  ]
}
